{
 "cells": [
  {
   "cell_type": "markdown",
   "metadata": {},
   "source": [
    "# Introduction to the problem\n",
    "The wind speed profile follows a power law as given below:\n",
    "\n",
    "$$V(h) = V(HH)*\\left(\\frac{h}{HH}\\right)^\\alpha$$\n",
    "\n",
    "where $V(h)$ is the speed at altitude $h$, $V(HH)$ is the speed at altitude $HH$, $HH$ is hub height, $\\alpha$ is the power (i.e. wind shear). For many turbines, wind speed sensors are equipped at hub height (78.7 m) and lower tip height (38 m). Therefore, it is customary in the industry to use these two speeds to calculate α. \n",
    "\n",
    "The wind speed profiles are shown in the following image:\n",
    "\n",
    "![title](img/Wind_Speed_Profiles.png)\n",
    "\n",
    "Your Engineering Analytic Project Deliverables\n",
    "Your field team has provided a data set collected from one wind turbine that gives both wind speed from a 5 sensor met mast and load parameters from the load sensors.  Field engineers have already done extensive work and labeled the wind speed profile (0: power law; 1: LLJ; 2: Flat; 3: Others). \n"
   ]
  },
  {
   "cell_type": "code",
   "execution_count": 1,
   "metadata": {},
   "outputs": [],
   "source": [
    "%matplotlib inline\n",
    "from ipywidgets import interactive, fixed"
   ]
  },
  {
   "cell_type": "markdown",
   "metadata": {},
   "source": [
    "## Part A: Develop an algorithm to classify wind speed profile\n",
    "Your first task is to develop and evaluate a classifier to see how well a speed profile can be determined from the load sensor data.  Specifically, you are asked to use the load sensor data X from turbine sensors (14 parameters in the Appendix) to classify the wind speed profiles: 0, 1, 2, 3 (your Y estimator output).  Be sure to include estimates of how well your classifier performs."
   ]
  },
  {
   "cell_type": "markdown",
   "metadata": {},
   "source": [
    "## Part B: Estimation of $\\alpha$ from load sensor data\n",
    "If the speed profile follows a power law (ShearTypeClass 0), the shear ($\\alpha$) can be calculated by using wind speeds at altitudes of 38 m and 78.7 m (see the equation). Create a predictive model for $\\alpha$ from the load sensor data and determine how well it estimates the actual. In this case, you are using the same X load sensor inputs to infer a new continuous variable Y."
   ]
  },
  {
   "cell_type": "markdown",
   "metadata": {},
   "source": [
    "## Part C: Estimation of Shear when speed profile does not follow a power law\n",
    "For speed profiles labeled as 1, 2, and 3, how might you create a model to estimate these profiles?\n"
   ]
  }
 ],
 "metadata": {
  "language_info": {
   "codemirror_mode": {
    "name": "ipython",
    "version": 3
   },
   "file_extension": ".py",
   "mimetype": "text/x-python",
   "name": "python",
   "nbconvert_exporter": "python",
   "pygments_lexer": "ipython3",
   "version": "3.8.3-final"
  },
  "orig_nbformat": 2,
  "kernelspec": {
   "name": "python38364bitb8ec1696c1fe4b49aa09f192f1c52d8d",
   "display_name": "Python 3.8.3 64-bit"
  }
 },
 "nbformat": 4,
 "nbformat_minor": 2
}